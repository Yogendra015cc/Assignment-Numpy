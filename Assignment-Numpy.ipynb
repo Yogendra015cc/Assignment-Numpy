{
 "cells": [
  {
   "cell_type": "raw",
   "id": "f61b4639-82dd-4ee9-bc38-78070907d9a7",
   "metadata": {},
   "source": [
    "1. What is a Python library? Why do we use Python libraries?\n",
    "2. What is the difference between Numpy array and List?\n",
    "3. Find the shape, size and dimension of the following array?\n",
    "[[1, 2, 3, 4]\n",
    "[5, 6, 7, 8],\n",
    "[9, 10, 11, 12]]\n",
    "4. Write python code to access the first row of the following array?\n",
    "[[1, 2, 3, 4]\n",
    "[5, 6, 7, 8],\n",
    "[9, 10, 11, 12]]\n",
    "5. How do you access the element at the third row and fourth column from the given numpy array?\n",
    "[[1, 2, 3, 4]\n",
    "[5, 6, 7, 8],\n",
    "[9, 10, 11, 12]]\n",
    "6. Write code to extract all odd-indexed elements from the given numpy array?\n",
    "[[1, 2, 3, 4]\n",
    "[5, 6, 7, 8],\n",
    "[9, 10, 11, 12]]\n",
    "7. How can you generate a random 3x3 matrix with values between 0 and 1?\n",
    "8. Describe the difference between np.random.rand and np.random.randn?\n",
    "9. Write co^e to increase the dimension of the following array?\n",
    "[[1, 2, 3, 4]\n",
    "[5, 6, 7, 8],\n",
    "[9, 10, 11, 12]]\n",
    "10. How to transpose the following array in NumPy?\n",
    "[[1, 2, 3, 4]\n",
    "[5, 6, 7, 8],\n",
    "[9, 10, 11, 12]]\n",
    "11. Consider the following matrix:\n",
    "Matrix A : [[1, 2, 3, 4] [5, 6, 7, 8],[9, 10, 11, 12]]\n",
    "Matrix B : [[1, 2, 3, 4] [5, 6, 7, 8],[9, 10, 11, 12]]\n",
    "Perform the following operation using Python :\n",
    "1. Index wise multiplication\n",
    "2. Matrix multiplication\n",
    "3. Add both the matices\n",
    "4. Subtact matrix B from A \n",
    "5. Divide Matrix B by A\n",
    "12. Which function in Numpy can be use^ to swap the byte or^er of an array?\n",
    "13. What is the significance of the np.linalg.inv function?\n",
    "14. What does the np.reshape function do, and how is it used?\n",
    "15. What is broadcasting in Numpy?"
   ]
  },
  {
   "cell_type": "raw",
   "id": "ae40d4e6-84bd-4b83-8aaa-f1dbcd1307d6",
   "metadata": {},
   "source": [
    "1. What is a Python library? Why do we use Python libraries?"
   ]
  },
  {
   "cell_type": "raw",
   "id": "c16b8aa3-e82f-4c10-ab1b-3705ba043196",
   "metadata": {},
   "source": [
    "Ans.A python library  is a collection various functions and modules which are very helpful in coding in python.Python itself has a large amount of functions and modules but the number gets increased to a very large amount as we import any library available by python.\n",
    "\n",
    "We use Python libraries because of the following benefits :-\n",
    "\n",
    "1.Code Reusability: Libraries offer pre-written and tested code, allowing developers to reuse existing solutions rather than starting from scratch.\n",
    "2.Efficiency: Libraries are typically written in a more optimized and efficient manner, benefiting from the expertise of experienced developers.\n",
    "3.Specialized Functionality: Libraries often provide specialized functionality for specific domains or tasks. For example, NumPy and SciPy are libraries for scientific computing, while TensorFlow and PyTorch are focused on machine learning and deep learning."
   ]
  },
  {
   "cell_type": "raw",
   "id": "07ae2bab-b548-4c4b-b647-99be21106333",
   "metadata": {},
   "source": [
    "2. What is the difference between Numpy array and List?"
   ]
  },
  {
   "cell_type": "raw",
   "id": "378783e5-e44b-4c1e-9114-2777b83a68cf",
   "metadata": {},
   "source": [
    "Ans.Differences between numpy array and list are:-\n",
    "\n",
    "Numpy array is much more faster than list.\n",
    "Array :=\n",
    "1.Array is homogenous\n",
    "2.Array supports one kind of datatypes\n",
    "\n",
    "List:=\n",
    ">Refrencing\n",
    "(List is contigoius that means random allocation of memory is done.\n",
    "List stores the adress of the elements in it , it doesnt store elements.)\n",
    "\n",
    "1.List is mutable\n",
    "2.List is resizable , array is not"
   ]
  },
  {
   "cell_type": "raw",
   "id": "4ec92af4-0065-47c8-abf5-a7abd4b5f209",
   "metadata": {},
   "source": [
    "3. Find the shape, size and dimension of the following array?\n",
    "[[1, 2, 3, 4]\n",
    "[5, 6, 7, 8],\n",
    "[9, 10, 11, 12]]"
   ]
  },
  {
   "cell_type": "code",
   "execution_count": 1,
   "id": "4cc7946e-b0d4-471d-957c-b3dab779aa87",
   "metadata": {},
   "outputs": [],
   "source": [
    "import numpy as np"
   ]
  },
  {
   "cell_type": "code",
   "execution_count": 17,
   "id": "2f268e7b-9b69-4f5c-9169-cc4d26d7ce05",
   "metadata": {},
   "outputs": [],
   "source": [
    "arr = np.array([[1, 2, 3, 4],[5, 6, 7, 8],[9, 10, 11, 12]])"
   ]
  },
  {
   "cell_type": "code",
   "execution_count": 18,
   "id": "548db2df-b1fb-40f4-81d9-35c54b37fe4d",
   "metadata": {},
   "outputs": [
    {
     "data": {
      "text/plain": [
       "array([[ 1,  2,  3,  4],\n",
       "       [ 5,  6,  7,  8],\n",
       "       [ 9, 10, 11, 12]])"
      ]
     },
     "execution_count": 18,
     "metadata": {},
     "output_type": "execute_result"
    }
   ],
   "source": [
    "arr"
   ]
  },
  {
   "cell_type": "code",
   "execution_count": 7,
   "id": "03ddbc87-c12c-4366-8a47-f7216bde910a",
   "metadata": {},
   "outputs": [
    {
     "data": {
      "text/plain": [
       "(3, 4)"
      ]
     },
     "execution_count": 7,
     "metadata": {},
     "output_type": "execute_result"
    }
   ],
   "source": [
    "arr.shape"
   ]
  },
  {
   "cell_type": "code",
   "execution_count": 8,
   "id": "b38f1500-4f2d-4858-becb-347ea22e3f0f",
   "metadata": {},
   "outputs": [
    {
     "data": {
      "text/plain": [
       "12"
      ]
     },
     "execution_count": 8,
     "metadata": {},
     "output_type": "execute_result"
    }
   ],
   "source": [
    "arr.size"
   ]
  },
  {
   "cell_type": "code",
   "execution_count": 9,
   "id": "87b26209-f311-432f-8b62-1a25529e6812",
   "metadata": {},
   "outputs": [
    {
     "data": {
      "text/plain": [
       "2"
      ]
     },
     "execution_count": 9,
     "metadata": {},
     "output_type": "execute_result"
    }
   ],
   "source": [
    "arr.ndim"
   ]
  },
  {
   "cell_type": "raw",
   "id": "c2d3b1af-bd49-427c-80d0-8b15b5cb8f0e",
   "metadata": {},
   "source": [
    "So, shape,size and dimension of the given array are (3,4) , 12 and 2 respectively"
   ]
  },
  {
   "cell_type": "raw",
   "id": "0f119d32-9081-431e-955c-49115d30ccfc",
   "metadata": {},
   "source": [
    "4. Write python code to access the first row of the following array?\n",
    "[[1, 2, 3, 4]\n",
    "[5, 6, 7, 8],\n",
    "[9, 10, 11, 12]]"
   ]
  },
  {
   "cell_type": "code",
   "execution_count": 5,
   "id": "1ce81700-4fb6-49b1-a313-72efe410de07",
   "metadata": {},
   "outputs": [
    {
     "data": {
      "text/plain": [
       "array([[ 1,  2,  3,  4],\n",
       "       [ 5,  6,  7,  8],\n",
       "       [ 9, 10, 11, 12]])"
      ]
     },
     "execution_count": 5,
     "metadata": {},
     "output_type": "execute_result"
    }
   ],
   "source": [
    "arr"
   ]
  },
  {
   "cell_type": "code",
   "execution_count": 12,
   "id": "df4b0a71-b5ac-4be1-a2e8-499281f07066",
   "metadata": {},
   "outputs": [
    {
     "data": {
      "text/plain": [
       "array([1, 2, 3, 4])"
      ]
     },
     "execution_count": 12,
     "metadata": {},
     "output_type": "execute_result"
    }
   ],
   "source": [
    "arr[0,] # Accessing 1st row of the array by array slicing\n",
    "# 1st argument is for the the index of row and second argument is none because we have to access row only"
   ]
  },
  {
   "cell_type": "raw",
   "id": "2a7d8274-6bef-4cae-980b-625703b638fc",
   "metadata": {},
   "source": [
    "5. How do you access the element at the third row and fourth column from the given numpy array?\n",
    "[[1, 2, 3, 4]\n",
    "[5, 6, 7, 8],\n",
    "[9, 10, 11, 12]]"
   ]
  },
  {
   "cell_type": "code",
   "execution_count": 13,
   "id": "03cd6a02-8d80-4c4a-ad74-21a08e591a9d",
   "metadata": {},
   "outputs": [
    {
     "data": {
      "text/plain": [
       "12"
      ]
     },
     "execution_count": 13,
     "metadata": {},
     "output_type": "execute_result"
    }
   ],
   "source": [
    "# We can access the element at the third row and fourth column from the given numpy array by the following code\n",
    "arr[2][3]"
   ]
  },
  {
   "cell_type": "raw",
   "id": "a0f174e5-04f7-46d0-8081-19ead0fb5fe3",
   "metadata": {},
   "source": [
    "6. Write code to extract all odd-indexed elements from the given numpy array?\n",
    "[[1, 2, 3, 4]\n",
    "[5, 6, 7, 8],\n",
    "[9, 10, 11, 12]]"
   ]
  },
  {
   "cell_type": "code",
   "execution_count": 5,
   "id": "57648527-8734-4a1d-b818-cc2c60b3d6bd",
   "metadata": {},
   "outputs": [
    {
     "data": {
      "text/plain": [
       "array([[ 2,  4],\n",
       "       [ 6,  8],\n",
       "       [10, 12]])"
      ]
     },
     "execution_count": 5,
     "metadata": {},
     "output_type": "execute_result"
    }
   ],
   "source": [
    "# To extract all odd-indexed elements from the given numpy array , following array slicing can be done\n",
    "arr[0:3,[1,3]]"
   ]
  },
  {
   "cell_type": "raw",
   "id": "7fb869ac-14ce-4c0b-af2c-d7721aef1277",
   "metadata": {},
   "source": [
    "7. How can you generate a random 3x3 matrix with values between 0 and 1?"
   ]
  },
  {
   "cell_type": "code",
   "execution_count": 12,
   "id": "90d264f8-896f-4043-aaa9-c827c0f82c1a",
   "metadata": {},
   "outputs": [],
   "source": [
    "# We can generate a random 3x3 matrix with values between 0 and 1 by the following numpy function\n",
    "\n",
    "arr2 = np.random.rand(3,3)"
   ]
  },
  {
   "cell_type": "code",
   "execution_count": 13,
   "id": "06f42293-e29a-4316-ad3d-9837a2914ef2",
   "metadata": {},
   "outputs": [
    {
     "data": {
      "text/plain": [
       "array([[0.98404434, 0.07066272, 0.46165573],\n",
       "       [0.94369571, 0.84697087, 0.12581216],\n",
       "       [0.10301535, 0.44380971, 0.26942897]])"
      ]
     },
     "execution_count": 13,
     "metadata": {},
     "output_type": "execute_result"
    }
   ],
   "source": [
    "arr2"
   ]
  },
  {
   "cell_type": "raw",
   "id": "36c18e84-c826-4ad0-a5b1-af9808b15305",
   "metadata": {},
   "source": [
    "8. Describe the difference between np.random.rand and np.random.randn?"
   ]
  },
  {
   "cell_type": "raw",
   "id": "5c4fb60e-1091-4541-a5e8-8b8919a47f83",
   "metadata": {},
   "source": [
    "Ans.The functions np.random.rand and np.random.randn are both part of the NumPy library and are used for generating random numbers. However, there is a key difference in terms of the distribution of the generated random numbers.\n",
    "\n",
    "np.random.rand:\n",
    "\n",
    ">This function generates random numbers from a uniform distribution over the interval [0, 1).\n",
    "\n",
    ">The syntax is np.random.rand(d0, d1, ..., dn), where d0, d1, ..., dn are the dimensions of the output array.\n",
    "\n",
    "np.random.randn:\n",
    "\n",
    ">This function generates random numbers from a standard normal distribution (mean = 0, standard deviation = 1).\n",
    "\n",
    ">The syntax is np.random.randn(d0, d1, ..., dn), where d0, d1, ..., dn are the dimensions of the output array.\n",
    "\n",
    "example:-"
   ]
  },
  {
   "cell_type": "code",
   "execution_count": 3,
   "id": "fc87f51e-c66a-44af-b6f6-e3d57f671373",
   "metadata": {},
   "outputs": [
    {
     "data": {
      "text/plain": [
       "array([[0.13326121, 0.03535223, 0.30576647],\n",
       "       [0.8856486 , 0.11849164, 0.97780771],\n",
       "       [0.83120083, 0.94824378, 0.53136459]])"
      ]
     },
     "execution_count": 3,
     "metadata": {},
     "output_type": "execute_result"
    }
   ],
   "source": [
    "np.random.rand(3,3) # All generated random numbers are from 0-1"
   ]
  },
  {
   "cell_type": "code",
   "execution_count": 4,
   "id": "985695fe-84bb-4889-b87f-14ba7d7c678c",
   "metadata": {},
   "outputs": [
    {
     "data": {
      "text/plain": [
       "array([[ 0.01969729, -0.01739279,  0.32630199],\n",
       "       [ 0.18534289,  0.09252909,  0.17213531],\n",
       "       [-1.10766736, -0.83793255,  0.86214542]])"
      ]
     },
     "execution_count": 4,
     "metadata": {},
     "output_type": "execute_result"
    }
   ],
   "source": [
    "np.random.randn(3,3)"
   ]
  },
  {
   "cell_type": "raw",
   "id": "b0b0bb49-b236-4c1c-8955-fc9ab6e81367",
   "metadata": {},
   "source": [
    "9. Write code to increase the dimension of the following array?\n",
    "[[1, 2, 3, 4]\n",
    "[5, 6, 7, 8],\n",
    "[9, 10, 11, 12]]"
   ]
  },
  {
   "cell_type": "code",
   "execution_count": 4,
   "id": "65c032a6-f88c-4e4a-a391-4af70556919f",
   "metadata": {},
   "outputs": [],
   "source": [
    "arr_1 = np.expand_dims(arr,axis = 0)"
   ]
  },
  {
   "cell_type": "code",
   "execution_count": 5,
   "id": "7e643a30-c20f-4190-880c-64a1f88cad03",
   "metadata": {},
   "outputs": [
    {
     "data": {
      "text/plain": [
       "array([[[ 1,  2,  3,  4],\n",
       "        [ 5,  6,  7,  8],\n",
       "        [ 9, 10, 11, 12]]])"
      ]
     },
     "execution_count": 5,
     "metadata": {},
     "output_type": "execute_result"
    }
   ],
   "source": [
    "arr_1"
   ]
  },
  {
   "cell_type": "raw",
   "id": "fc375363-3a40-490c-9343-8f7cadc2de2c",
   "metadata": {},
   "source": [
    "10. How to transpose the following array in NumPy?\n",
    "[[1, 2, 3, 4]\n",
    "[5, 6, 7, 8],\n",
    "[9, 10, 11, 12]]"
   ]
  },
  {
   "cell_type": "code",
   "execution_count": 6,
   "id": "1ddd41ca-1967-468c-b1f1-c724f92d9e71",
   "metadata": {},
   "outputs": [
    {
     "data": {
      "text/plain": [
       "array([[ 1,  5,  9],\n",
       "       [ 2,  6, 10],\n",
       "       [ 3,  7, 11],\n",
       "       [ 4,  8, 12]])"
      ]
     },
     "execution_count": 6,
     "metadata": {},
     "output_type": "execute_result"
    }
   ],
   "source": [
    "# We can transpose the following array in NumPy by following code\n",
    "arr.T"
   ]
  },
  {
   "cell_type": "raw",
   "id": "ab8abb80-180e-4716-8eb9-9847ed9930d3",
   "metadata": {},
   "source": [
    "11. Consider the following matrix:\n",
    "Matrix A : [[1, 2, 3, 4] [5, 6, 7, 8],[9, 10, 11, 12]]\n",
    "Matrix B : [[1, 2, 3, 4] [5, 6, 7, 8],[9, 10, 11, 12]]\n",
    "Perform the following operation using Python :\n",
    "1. Index wise multiplication\n",
    "2. Matrix multiplication\n",
    "3. Add both the matices\n",
    "4. Subtact matrix B from A \n",
    "5. Divide Matrix B by A"
   ]
  },
  {
   "cell_type": "code",
   "execution_count": 11,
   "id": "dcbcf291-14d5-4cb8-beea-15dc1e87153c",
   "metadata": {},
   "outputs": [],
   "source": [
    "Matrix_A = np.array([[1, 2, 3, 4], [5, 6, 7, 8],[9, 10, 11, 12]])\n",
    "Matrix_B = np.array([[1, 2, 3, 4] , [5, 6, 7, 8],[9, 10, 11, 12]])"
   ]
  },
  {
   "cell_type": "code",
   "execution_count": 22,
   "id": "abaf5129-4ec2-4820-9ebb-37d5108d7700",
   "metadata": {},
   "outputs": [
    {
     "data": {
      "text/plain": [
       "array([[  1,   4,   9,  16],\n",
       "       [ 25,  36,  49,  64],\n",
       "       [ 81, 100, 121, 144]])"
      ]
     },
     "execution_count": 22,
     "metadata": {},
     "output_type": "execute_result"
    }
   ],
   "source": [
    "# 1. Index wise multiplication \n",
    "Matrix_A * Matrix_B"
   ]
  },
  {
   "cell_type": "code",
   "execution_count": 25,
   "id": "8a46c351-76ae-4793-b710-e7eb16f4296e",
   "metadata": {},
   "outputs": [],
   "source": [
    "# 2. Matrix multiplication\n",
    "\n",
    "'''\n",
    "We cant do matrix multiplication because shape of Matrix A is 3X4 and shape of Maztrix B is also 3X4,\n",
    "Matrix of order pXq and mXn can only get multiplied if q = m \n",
    "here, 4 is not equal to 3 therefore we cannot do matrix multiplication\n",
    "'''\n",
    "\n",
    "# But we can do matrix multiplication by tramnsposing one of the 2 matrix\n",
    "\n",
    "T_Matraix_B = Matrix_B.T"
   ]
  },
  {
   "cell_type": "code",
   "execution_count": 26,
   "id": "b58a9507-bf5b-4480-b607-40fba74dc40a",
   "metadata": {},
   "outputs": [
    {
     "data": {
      "text/plain": [
       "array([[ 30,  70, 110],\n",
       "       [ 70, 174, 278],\n",
       "       [110, 278, 446]])"
      ]
     },
     "execution_count": 26,
     "metadata": {},
     "output_type": "execute_result"
    }
   ],
   "source": [
    "Matrix_A @ T_Matraix_B"
   ]
  },
  {
   "cell_type": "code",
   "execution_count": 28,
   "id": "8b6ebbca-8b6d-4e6c-b393-91399b675175",
   "metadata": {},
   "outputs": [
    {
     "data": {
      "text/plain": [
       "array([[ 2,  4,  6,  8],\n",
       "       [10, 12, 14, 16],\n",
       "       [18, 20, 22, 24]])"
      ]
     },
     "execution_count": 28,
     "metadata": {},
     "output_type": "execute_result"
    }
   ],
   "source": [
    "# 3. Add both the matrices\n",
    "Matrix_A + Matrix_B # This is index wise addition"
   ]
  },
  {
   "cell_type": "code",
   "execution_count": 29,
   "id": "730c99e5-539e-4736-8728-28c1f1e40186",
   "metadata": {},
   "outputs": [
    {
     "data": {
      "text/plain": [
       "array([[0, 0, 0, 0],\n",
       "       [0, 0, 0, 0],\n",
       "       [0, 0, 0, 0]])"
      ]
     },
     "execution_count": 29,
     "metadata": {},
     "output_type": "execute_result"
    }
   ],
   "source": [
    "# 4. Subtact matrix B from A \n",
    "Matrix_B - Matrix_A"
   ]
  },
  {
   "cell_type": "code",
   "execution_count": 31,
   "id": "29f4d205-3b34-492b-bea0-b59db07307ba",
   "metadata": {},
   "outputs": [
    {
     "data": {
      "text/plain": [
       "array([[1., 1., 1., 1.],\n",
       "       [1., 1., 1., 1.],\n",
       "       [1., 1., 1., 1.]])"
      ]
     },
     "execution_count": 31,
     "metadata": {},
     "output_type": "execute_result"
    }
   ],
   "source": [
    "# 5. Divide Matrix B by A\n",
    "Matrix_B/Matrix_A"
   ]
  },
  {
   "cell_type": "raw",
   "id": "870974fc-c379-487e-a620-47fe9b7866f5",
   "metadata": {},
   "source": [
    "12. Which function in Numpy can be used to swap the byte order of an array?"
   ]
  },
  {
   "cell_type": "code",
   "execution_count": 13,
   "id": "453eb0fa-5a5b-4d21-83e8-96f27df2a16e",
   "metadata": {},
   "outputs": [
    {
     "data": {
      "text/plain": [
       "array([[ 72057594037927936, 144115188075855872, 216172782113783808,\n",
       "        288230376151711744],\n",
       "       [360287970189639680, 432345564227567616, 504403158265495552,\n",
       "        576460752303423488],\n",
       "       [648518346341351424, 720575940379279360, 792633534417207296,\n",
       "        864691128455135232]])"
      ]
     },
     "execution_count": 13,
     "metadata": {},
     "output_type": "execute_result"
    }
   ],
   "source": [
    "arr.byteswap(True)\n",
    "# This change the byte order of array"
   ]
  },
  {
   "cell_type": "raw",
   "id": "c14ed4f7-ccf3-4d48-9f4a-bb79c74ebafd",
   "metadata": {},
   "source": [
    "13. What is the significance of the np.linalg.inv function?"
   ]
  },
  {
   "cell_type": "code",
   "execution_count": 5,
   "id": "9d3d7d60-68ff-4fd1-830d-f6ebda1826a6",
   "metadata": {},
   "outputs": [],
   "source": [
    "# Sorry i dont know about it but i will surely understand it very soon"
   ]
  },
  {
   "cell_type": "raw",
   "id": "44503e55-88df-4b94-8746-30ce29da44df",
   "metadata": {},
   "source": [
    "14. What does the np.reshape function do, and how is it used?"
   ]
  },
  {
   "cell_type": "raw",
   "id": "293a15ed-2754-4026-ad91-22356f4d5184",
   "metadata": {},
   "source": [
    "Every array has a its shape i.g.,(1,2),(2,3),(4,4) etc.The function np.reshape changes the shape of the array.\n",
    "   But there are some circumstances isndie which np.reshape work.The multiplication of the reshape's parameter should be equal to the multiplication of the real shape    of the array.Following is the example...."
   ]
  },
  {
   "cell_type": "code",
   "execution_count": 21,
   "id": "bf10c4d0-8521-46ea-bd01-30d99b24181d",
   "metadata": {},
   "outputs": [
    {
     "data": {
      "text/plain": [
       "(3, 4)"
      ]
     },
     "execution_count": 21,
     "metadata": {},
     "output_type": "execute_result"
    }
   ],
   "source": [
    "arr.shape # Multiplication of its shape  = 12"
   ]
  },
  {
   "cell_type": "code",
   "execution_count": 22,
   "id": "099387c8-ddfe-44f3-9091-a2f5c0f00155",
   "metadata": {},
   "outputs": [
    {
     "data": {
      "text/plain": [
       "array([[ 1,  2,  3],\n",
       "       [ 4,  5,  6],\n",
       "       [ 7,  8,  9],\n",
       "       [10, 11, 12]])"
      ]
     },
     "execution_count": 22,
     "metadata": {},
     "output_type": "execute_result"
    }
   ],
   "source": [
    "arr.reshape(4,3) # Here , multiplication is still 12 therefore we can reshape it"
   ]
  },
  {
   "cell_type": "code",
   "execution_count": 23,
   "id": "cf4f3f36-990e-4d6c-9ab8-f3c51ba7cf42",
   "metadata": {},
   "outputs": [
    {
     "data": {
      "text/plain": [
       "array([[ 1,  2],\n",
       "       [ 3,  4],\n",
       "       [ 5,  6],\n",
       "       [ 7,  8],\n",
       "       [ 9, 10],\n",
       "       [11, 12]])"
      ]
     },
     "execution_count": 23,
     "metadata": {},
     "output_type": "execute_result"
    }
   ],
   "source": [
    "arr.reshape(6,2)  # Here also, multiplication is still 12 therefore we can reshape it"
   ]
  },
  {
   "cell_type": "code",
   "execution_count": 24,
   "id": "91c15b87-ba62-4d0e-bb57-dba3275fbba2",
   "metadata": {},
   "outputs": [
    {
     "ename": "ValueError",
     "evalue": "cannot reshape array of size 12 into shape (2,7)",
     "output_type": "error",
     "traceback": [
      "\u001b[0;31m---------------------------------------------------------------------------\u001b[0m",
      "\u001b[0;31mValueError\u001b[0m                                Traceback (most recent call last)",
      "Cell \u001b[0;32mIn[24], line 1\u001b[0m\n\u001b[0;32m----> 1\u001b[0m \u001b[43marr\u001b[49m\u001b[38;5;241;43m.\u001b[39;49m\u001b[43mreshape\u001b[49m\u001b[43m(\u001b[49m\u001b[38;5;241;43m2\u001b[39;49m\u001b[43m,\u001b[49m\u001b[38;5;241;43m7\u001b[39;49m\u001b[43m)\u001b[49m \u001b[38;5;66;03m# This will show error because multiplication of 2 and 7 is not equal to 12\u001b[39;00m\n",
      "\u001b[0;31mValueError\u001b[0m: cannot reshape array of size 12 into shape (2,7)"
     ]
    }
   ],
   "source": [
    "arr.reshape(2,7) # This will show error because multiplication of 2 and 7 is not equal to 12"
   ]
  },
  {
   "cell_type": "raw",
   "id": "9bbade15-1c37-4c90-b3f8-793e771d75bc",
   "metadata": {},
   "source": [
    "15. What is broadcasting in Numpy?"
   ]
  },
  {
   "cell_type": "raw",
   "id": "5886281e-4d8f-4566-8556-d4b177596f44",
   "metadata": {},
   "source": [
    "All the operations on every single element in an array is broadcasting.\n",
    "Simple addition,multiplication,substraction and division on an array can be considered as broadcasting"
   ]
  },
  {
   "cell_type": "code",
   "execution_count": 25,
   "id": "1dd9087c-5e58-4f44-bb62-3f20560b7c8a",
   "metadata": {},
   "outputs": [
    {
     "data": {
      "text/plain": [
       "array([[ 1,  2,  3,  4],\n",
       "       [ 5,  6,  7,  8],\n",
       "       [ 9, 10, 11, 12]])"
      ]
     },
     "execution_count": 25,
     "metadata": {},
     "output_type": "execute_result"
    }
   ],
   "source": [
    "# For exa.\n",
    "\n",
    "arr"
   ]
  },
  {
   "cell_type": "code",
   "execution_count": 27,
   "id": "885081de-a7a4-4719-91e3-4ce421a05ffd",
   "metadata": {},
   "outputs": [
    {
     "data": {
      "text/plain": [
       "array([[ 2,  3,  4,  5],\n",
       "       [ 6,  7,  8,  9],\n",
       "       [10, 11, 12, 13]])"
      ]
     },
     "execution_count": 27,
     "metadata": {},
     "output_type": "execute_result"
    }
   ],
   "source": [
    "arr + 1 # Here every element is getting added by 1 , hence it is known as broadcasting"
   ]
  },
  {
   "cell_type": "code",
   "execution_count": 28,
   "id": "753eddd2-2b27-44b6-8442-68ea5d76e38d",
   "metadata": {},
   "outputs": [
    {
     "data": {
      "text/plain": [
       "array([[0.5, 1. , 1.5, 2. ],\n",
       "       [2.5, 3. , 3.5, 4. ],\n",
       "       [4.5, 5. , 5.5, 6. ]])"
      ]
     },
     "execution_count": 28,
     "metadata": {},
     "output_type": "execute_result"
    }
   ],
   "source": [
    "# one more example\n",
    "arr/2"
   ]
  },
  {
   "cell_type": "code",
   "execution_count": null,
   "id": "37adb901-b810-490d-8a06-5a4fda1d591b",
   "metadata": {},
   "outputs": [],
   "source": []
  }
 ],
 "metadata": {
  "kernelspec": {
   "display_name": "Python 3 (ipykernel)",
   "language": "python",
   "name": "python3"
  },
  "language_info": {
   "codemirror_mode": {
    "name": "ipython",
    "version": 3
   },
   "file_extension": ".py",
   "mimetype": "text/x-python",
   "name": "python",
   "nbconvert_exporter": "python",
   "pygments_lexer": "ipython3",
   "version": "3.10.8"
  }
 },
 "nbformat": 4,
 "nbformat_minor": 5
}
